{
 "cells": [
  {
   "cell_type": "markdown",
   "metadata": {},
   "source": [
    "## Introduction/Business Problem"
   ]
  },
  {
   "cell_type": "markdown",
   "metadata": {},
   "source": [
    "New York is a city with many restaurants, representing the myriad tastes of its inhabitants. A chef and investor want to open a French restaurant in the city, but want to identify a location where the restaurant is likely to succeed. We plan to use neighborhoods that conain French restaurants to try to identify features of target areas. We will use these features to identify neighborhoods that do not have French restaurants (since we do not wish to have very similar competition too nearby) but are like those that do."
   ]
  },
  {
   "cell_type": "markdown",
   "metadata": {},
   "source": [
    "## Data"
   ]
  },
  {
   "cell_type": "markdown",
   "metadata": {},
   "source": [
    "We will use the New York neighborhoods data to find coordinates of the neighborhoods' centers, then use Foursquare data to collect information about neighborhoods with French restaurants."
   ]
  },
  {
   "cell_type": "markdown",
   "metadata": {},
   "source": [
    "The location data include borough, neighborhood, latitude, and longitude, as shown below. We want to be sure we include borough information to help prioritize neighborhoods or break ties.\n",
    "\n",
    "|Borough|\tNeighborhood|\tLatitude|\tLongitude|\n",
    "|----|-----|----|----|\n",
    "|\tManhattan|\tMarble Hill|\t40.876551|\t-73.910660|\n",
    "|\tManhattan|\tChinatown|\t40.715618|\t-73.994279|\n",
    "|\tManhattan|\tWashington Heights|\t40.851903|\t-73.936900|\n",
    "|\tManhattan|\tInwood|\t40.867684|\t-73.921210|\n",
    "|\tManhattan|\tHamilton Heights|\t40.823604|\t-73.949688|\n",
    "\n",
    "The venue data from Foursquare include name, category, latitude, and longitude. For a more detailed analysis, we would use the premium calls to ad some features of the venues, like rating, hours, and other items we identify as informative.\n",
    "\n",
    "\n",
    "|name\t|categories\t|lat\t|lng|\n",
    "|----|-----|----|----|\n",
    "|Arturo's |Pizza Place\t|40.874412\t|-73.910271|\n",
    "|Bikram Yoga\t|Yoga Studio\t|40.876844\t|-73.906204|\n",
    "|Tibbett Diner\t|Diner\t|40.880404\t|-73.908937|\n",
    "| \tStarbucks\t|Coffee Shop\t|40.877531\t|-73.905582|\n",
    "|\tDunkin'|\tDonut Shop\t|40.877136\t|-73.906666|"
   ]
  }
 ],
 "metadata": {
  "kernelspec": {
   "display_name": "Python 3",
   "language": "python",
   "name": "python3"
  },
  "language_info": {
   "codemirror_mode": {
    "name": "ipython",
    "version": 3
   },
   "file_extension": ".py",
   "mimetype": "text/x-python",
   "name": "python",
   "nbconvert_exporter": "python",
   "pygments_lexer": "ipython3",
   "version": "3.7.4"
  }
 },
 "nbformat": 4,
 "nbformat_minor": 2
}
